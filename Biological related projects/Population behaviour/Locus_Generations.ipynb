{
 "cells": [
  {
   "cell_type": "markdown",
   "id": "f427cbb4-3599-42e7-93b4-ad8e9dea447f",
   "metadata": {},
   "source": [
    "# **Object oriented programming** - Population, locus and generations exercise"
   ]
  },
  {
   "cell_type": "markdown",
   "id": "5a16acfc-c237-4fe2-bb21-1931135d1cc4",
   "metadata": {},
   "source": [
    "This problem is designed in that way:\n",
    "\n",
    "- **Population** of 100 individuals\n",
    "- Each individual has **3 Locus**\n",
    "- Each locus is defined by one between **2 possible alleles** , ex: 'A' or 'a'\n",
    "- Each allele has its own **fitness**\n",
    "\n",
    "Example:\n",
    "- Population of 50 individuals = [ind0,ind1, ind2, ind3, ind4, ind5, ..., ind49]\n",
    "- ind1 = 'locus1, locus2, locus3' = 'AbC'\n",
    "- Locus1 = 'A' (in that case) but it could be 'A' or 'a'\n",
    "- fitness('A') = 1\n",
    "- fitness('a') = 0.78\n",
    "\n",
    "Objectives:\n",
    "- Simulate a RANDOM SELECTION event -> at each generation the individuals are removed if their fitness is lower than a random number between 0 and 1\n",
    "- Simulate a REPRODUCTION event -> at each generation the remaining individuals from the random selection mate to give life to new offspring. Each new individual will have a random genotype whose alleles will be randomly chosen from those present in the population.\n",
    "- Combine the RANDOM SELECTION event with the REPRODUCTION -> in order to mantain a population of 100 individuals but with a different proportion of the alleles with the respect of the previous generation population\n",
    "- Write a \"csv\" file all the frequencies for each locus in the population and VISUALIZE the changes with a graphical representation"
   ]
  },
  {
   "cell_type": "code",
   "execution_count": 3,
   "id": "eed39273-b128-4d8b-af9d-0e52682435a3",
   "metadata": {},
   "outputs": [],
   "source": [
    "import random\n",
    "import os"
   ]
  },
  {
   "cell_type": "code",
   "execution_count": 4,
   "id": "bab4ce8f-3625-4d24-931a-9eb03f83f72a",
   "metadata": {},
   "outputs": [],
   "source": [
    "#Define the \"Allele\" class\n",
    "# Ex. \"A\", fitness(\"A\") = 1\n",
    "class Allele(object):\n",
    "    def __init__(self, name, fitness):\n",
    "        self.name=name\n",
    "        self.fitness=fitness"
   ]
  },
  {
   "cell_type": "code",
   "execution_count": 71,
   "id": "afc873dd-f003-40f3-9b4f-a22316e283ee",
   "metadata": {},
   "outputs": [],
   "source": [
    "#Define the \"Locus\" class\n",
    "# A locus can have 2 possible values, ex: \"A\" or \"a\"\n",
    "class Locus(object):\n",
    "    def __init__(self, name):\n",
    "        self.name=name\n",
    "        self.alleles=[] #Values of a locus\n",
    "\n",
    "    def add_alleles(self, allele1, allele2): #add the possible values a locus can have\n",
    "        self.alleles.append(allele1)\n",
    "        self.alleles.append(allele2)\n",
    "\n",
    "    def get_random_allele(self): #decide which among the possible values choose as the allele of that locus\n",
    "        return random.choice(self.alleles)"
   ]
  },
  {
   "cell_type": "code",
   "execution_count": 6,
   "id": "a505ff95-8f0f-4f7d-8994-6a6a24ae1efd",
   "metadata": {},
   "outputs": [],
   "source": [
    "#Define the \"Individual\" class\n",
    "#An individual has 3 loci\n",
    "class Individual(object):\n",
    "\n",
    "    def __init__(self, alleles):\n",
    "        self.alleles = alleles #Here we store the list of alleles, one for each locus\n",
    "        \n",
    "    def get_genotype(self): #Return the genotype, namely the values of the 3 locus\n",
    "        genotype=''\n",
    "        for allele in self.alleles:\n",
    "            genotype=genotype + str(allele.name)\n",
    "        return genotype\n",
    "        \n",
    "    def get_fitness(self): #Return the fitness given the genotype\n",
    "        fitness=1\n",
    "        for allele in self.alleles:\n",
    "            fitness *= allele.fitness\n",
    "        return round(fitness,2)"
   ]
  },
  {
   "cell_type": "code",
   "execution_count": 7,
   "id": "45a4ff4d-ebe2-4b83-98f7-d0da7ffc79f9",
   "metadata": {},
   "outputs": [],
   "source": [
    "#Decide what are the fitness and the possible alleles for every locus\n",
    "locus1=Locus('locus1')\n",
    "locus1.add_alleles(Allele('A', 1), Allele('a', 0.94))\n",
    "\n",
    "locus2=Locus('locus2')\n",
    "locus2.add_alleles(Allele('B', 1), Allele('b', 0.76))\n",
    "\n",
    "locus3=Locus('locus3')\n",
    "locus3.add_alleles(Allele('C', 1), Allele('c', 0.81))\n",
    "\n",
    "#store all the locus with their respective alleles + fitness in a list\n",
    "all_loci=[locus1, locus2, locus3]"
   ]
  },
  {
   "cell_type": "code",
   "execution_count": 8,
   "id": "baca7eae-486e-4c01-90a5-59f4d9f225f2",
   "metadata": {},
   "outputs": [],
   "source": [
    "#Function for creating an individual given the list of all possible locus in a loci\n",
    "def create_individual(loci):\n",
    "    alleles_for_individual = []\n",
    "    for locus in loci:\n",
    "        alleles_for_individual.append(locus.get_random_allele())\n",
    "    i = Individual(alleles_for_individual)\n",
    "    return i"
   ]
  },
  {
   "cell_type": "code",
   "execution_count": 9,
   "id": "ed22f902-b10a-485b-8800-ba10da71aba8",
   "metadata": {},
   "outputs": [],
   "source": [
    "#Iterate the \"create_individual\" how many times you want and store the individuals in a list\n",
    "def create_population(size, loci):\n",
    "    all_individuals=[]\n",
    "    for i in range(size):\n",
    "        all_individuals.append(create_individual(loci))\n",
    "    return all_individuals\n",
    "my_population=create_population(100, all_loci)"
   ]
  },
  {
   "cell_type": "code",
   "execution_count": 10,
   "id": "d8986c7d-4467-4e15-bf9e-842d1a0f9e3b",
   "metadata": {},
   "outputs": [
    {
     "name": "stdout",
     "output_type": "stream",
     "text": [
      "Abc  Abc  aBC  abc  Abc  ABc  Abc  aBC  Abc  aBc  aBc  Abc  abc  aBC  aBC  abc  abc  aBc  abC  abc  AbC  ABc  aBC  aBc  abc  abC  abC  aBC  abC  ABc  aBc  AbC  abC  ABC  AbC  Abc  abC  ABC  ABC  ABC  AbC  ABC  ABc  ABc  AbC  abc  aBC  AbC  ABc  Abc  ABc  aBC  ABC  abc  aBC  aBC  ABC  abc  aBC  AbC  abC  ABC  AbC  Abc  aBc  aBc  aBC  abc  AbC  aBC  aBc  abC  aBc  aBC  aBC  abc  AbC  aBC  abc  aBc  abC  abc  AbC  Abc  AbC  Abc  ABC  aBC  AbC  aBc  abC  AbC  Abc  ABc  ABc  aBC  abC  aBc  ABc  AbC  "
     ]
    }
   ],
   "source": [
    "#Show the genotypes of all the individuals in a population\n",
    "for ind in my_population:\n",
    "    print(ind.get_genotype(), \" \", end=\"\")"
   ]
  },
  {
   "cell_type": "code",
   "execution_count": 11,
   "id": "5324d660-b698-44a8-8afd-761696109955",
   "metadata": {},
   "outputs": [
    {
     "name": "stdout",
     "output_type": "stream",
     "text": [
      "0.62  0.62  0.94  0.58  0.62  0.81  0.62  0.94  0.62  0.76  0.76  0.62  0.58  0.94  0.94  0.58  0.58  0.76  0.71  0.58  0.76  0.81  0.94  0.76  0.58  0.71  0.71  0.94  0.71  0.81  0.76  0.76  0.71  1  0.76  0.62  0.71  1  1  1  0.76  1  0.81  0.81  0.76  0.58  0.94  0.76  0.81  0.62  0.81  0.94  1  0.58  0.94  0.94  1  0.58  0.94  0.76  0.71  1  0.76  0.62  0.76  0.76  0.94  0.58  0.76  0.94  0.76  0.71  0.76  0.94  0.94  0.58  0.76  0.94  0.58  0.76  0.71  0.58  0.76  0.62  0.76  0.62  1  0.94  0.76  0.76  0.71  0.76  0.62  0.81  0.81  0.94  0.71  0.76  0.81  0.76  "
     ]
    }
   ],
   "source": [
    "#Show the fitness of all the individuals in a population\n",
    "for ind in my_population:\n",
    "    print(ind.get_fitness(), \" \", end=\"\")"
   ]
  },
  {
   "cell_type": "code",
   "execution_count": 12,
   "id": "bef88208-2b9a-41ab-bace-4c89c94aca1c",
   "metadata": {},
   "outputs": [
    {
     "name": "stdout",
     "output_type": "stream",
     "text": [
      "{('aBC', 0.94), ('abc', 0.58), ('abC', 0.71), ('ABC', 1), ('AbC', 0.76), ('ABc', 0.81), ('Abc', 0.62), ('aBc', 0.76)}\n"
     ]
    }
   ],
   "source": [
    "#Combine fitness and genotypes together\n",
    "myset=set()\n",
    "for ind in my_population:\n",
    "    myset.add((ind.get_genotype(), ind.get_fitness()))\n",
    "    #print(f'(\"{ind.get_genotype()}\", {ind.get_fitness()})') -> Useless since it prints duplicates\n",
    "print(myset)"
   ]
  },
  {
   "cell_type": "code",
   "execution_count": 13,
   "id": "157042e7-94e2-4b40-8bec-9d7ec2282822",
   "metadata": {},
   "outputs": [],
   "source": [
    "#Compute the frequency of a single allele in a given population\n",
    "def get_allele_frequency(population, allele):\n",
    "    count=0\n",
    "    for ind in my_population: #selecting individuals from the population\n",
    "        for al in ind.alleles: #selecting allele (al) from the individual alleles\n",
    "            if allele in al.name: #checking the presence of \"allele\" among the alleles of the individual\n",
    "                count +=1\n",
    "    return count/len(population) #return the frequency of the allele according to the size of the population"
   ]
  },
  {
   "cell_type": "code",
   "execution_count": 14,
   "id": "b61b7fe6-89ce-4cb8-907c-731dfd4db5cb",
   "metadata": {},
   "outputs": [],
   "source": [
    "#Printing the frequency of all the alleles in a given population\n",
    "def summarize_population_alleles(all_loci,population):\n",
    "    freq=[]\n",
    "    for locus in all_loci:\n",
    "        for allele in locus.alleles:\n",
    "            freq.append(get_allele_frequency(population, str(allele.name)))\n",
    "            print(f'\"{allele.name}\" -> {get_allele_frequency(population, str(allele.name))}') "
   ]
  },
  {
   "cell_type": "code",
   "execution_count": 15,
   "id": "0a8e5784-fb3e-4510-b4ec-9d24d52f8893",
   "metadata": {},
   "outputs": [
    {
     "name": "stdout",
     "output_type": "stream",
     "text": [
      "\"A\" -> 0.46\n",
      "\"a\" -> 0.54\n",
      "\"B\" -> 0.49\n",
      "\"b\" -> 0.51\n",
      "\"C\" -> 0.53\n",
      "\"c\" -> 0.47\n"
     ]
    }
   ],
   "source": [
    "# \"all_loci\" -> list of all the loci in the population of our interest\n",
    "# \"my_population\" -> population of individuals (Individual class) each one associated with 3 locus\n",
    "summarize_population_alleles(all_loci, my_population)"
   ]
  },
  {
   "cell_type": "code",
   "execution_count": 16,
   "id": "3a47be91-38b0-4234-b199-7b797df9f73b",
   "metadata": {},
   "outputs": [],
   "source": [
    "#Function for the RANDOM SELECTION event\n",
    "#discard individuals if their fitness is lower than a random number\n",
    "def single_generation(population):\n",
    "    for individual in population: \n",
    "        if random.random() > individual.get_fitness():\n",
    "            population.remove(individual)"
   ]
  },
  {
   "cell_type": "code",
   "execution_count": 17,
   "id": "6a96333e-1c40-427b-8b2b-d991aab84639",
   "metadata": {},
   "outputs": [
    {
     "name": "stdout",
     "output_type": "stream",
     "text": [
      "\"A\" -> 0.46\n",
      "\"a\" -> 0.54\n",
      "\"B\" -> 0.49\n",
      "\"b\" -> 0.51\n",
      "\"C\" -> 0.53\n",
      "\"c\" -> 0.47\n",
      "\n",
      "at generation 0\n",
      "population size is 100\n",
      "at generation 1\n",
      "population size is 77\n",
      "at generation 2\n",
      "population size is 63\n",
      "at generation 3\n",
      "population size is 52\n",
      "at generation 4\n",
      "population size is 41\n",
      "at generation 5\n",
      "population size is 37\n",
      "at generation 6\n",
      "population size is 35\n",
      "at generation 7\n",
      "population size is 32\n",
      "at generation 8\n",
      "population size is 32\n",
      "at generation 9\n",
      "population size is 30\n",
      "\n",
      "\"A\" -> 0.48\n",
      "\"a\" -> 0.52\n",
      "\"B\" -> 0.96\n",
      "\"b\" -> 0.04\n",
      "\"C\" -> 0.92\n",
      "\"c\" -> 0.08\n"
     ]
    }
   ],
   "source": [
    "summarize_population_alleles(all_loci, my_population)\n",
    "print()\n",
    "\n",
    "#10 events of random selection \n",
    "for i in range(10):\n",
    "    print('at generation ' + str(i))\n",
    "    print('population size is ' + str(len(my_population)))\n",
    "    single_generation(my_population)\n",
    "\n",
    "print()\n",
    "summarize_population_alleles(all_loci, my_population)"
   ]
  },
  {
   "cell_type": "markdown",
   "id": "2934988e-363e-492e-bd30-2fb39b67e114",
   "metadata": {},
   "source": [
    "Observe that the frequency of the less fit alleles decreases"
   ]
  },
  {
   "cell_type": "code",
   "execution_count": 19,
   "id": "96a25e62-e3b5-41d0-81e8-6a2811b58aec",
   "metadata": {},
   "outputs": [],
   "source": [
    "def individual_from_population(population, loci):\n",
    "    #Get the list of all the alleles in the population\n",
    "    all_loci_new=[]\n",
    "    for ind in population:\n",
    "        for allele in ind.alleles:\n",
    "            if allele.name not in all_loci_new:\n",
    "                all_loci_new.append(allele.name)\n",
    "    #Remove from the initial loci list the alleles that are not present in the population\n",
    "    for locus in loci:\n",
    "        for allele in locus.alleles:\n",
    "            if allele.name not in all_loci_new:\n",
    "                locus.alleles.remove(allele)\n",
    "    population.append(create_individual(loci))"
   ]
  },
  {
   "cell_type": "code",
   "execution_count": 20,
   "id": "4687485f-fcd0-4238-8141-e05a5769fae0",
   "metadata": {},
   "outputs": [
    {
     "name": "stdout",
     "output_type": "stream",
     "text": [
      "Size of the population: 26\n",
      "\"A\" -> 0.46153846153846156\n",
      "\"a\" -> 0.5384615384615384\n",
      "\"B\" -> 0.9615384615384616\n",
      "\"b\" -> 0.038461538461538464\n",
      "\"C\" -> 0.8846153846153846\n",
      "\"c\" -> 0.11538461538461539\n"
     ]
    }
   ],
   "source": [
    "individual_from_population(my_population, all_loci)\n",
    "print(f'Size of the population: {len(my_population)}')\n",
    "summarize_population_alleles(all_loci, my_population)"
   ]
  },
  {
   "cell_type": "markdown",
   "id": "ae877c10-4f25-4ecb-8a93-b3658b412c1b",
   "metadata": {},
   "source": [
    "- Now we combine the RANDOM SELECTION event with the REPRODUCTION in order to mantain a population of 100 individuals but with different alleles proportion\n",
    "\n",
    "- First, reinitialize the population"
   ]
  },
  {
   "cell_type": "code",
   "execution_count": 22,
   "id": "3986f8ce-ee97-4313-b9d7-b2f59a2ef714",
   "metadata": {},
   "outputs": [
    {
     "name": "stdout",
     "output_type": "stream",
     "text": [
      "Size of the population: 100\n",
      "\"A\" -> 0.54\n",
      "\"a\" -> 0.46\n",
      "\"B\" -> 0.49\n",
      "\"b\" -> 0.51\n",
      "\"C\" -> 0.54\n",
      "\"c\" -> 0.46\n"
     ]
    }
   ],
   "source": [
    "#Reinitialize the population\n",
    "my_population=create_population(100, all_loci)\n",
    "print(f'Size of the population: {len(my_population)}')\n",
    "summarize_population_alleles(all_loci, my_population)"
   ]
  },
  {
   "cell_type": "markdown",
   "id": "70193e61-cf62-488c-8469-554bd6e5e521",
   "metadata": {},
   "source": [
    "In 1 generation we are going to have 2 kind of events\n",
    "- **Random Selection** (remove individuals from the population)\n",
    "- **Reproduction** (add individuals to the population)\n",
    "\n",
    "At the end we want the number of individual in a population to be the same, namely 100.\n",
    "Only the frequencies of the alleles will change"
   ]
  },
  {
   "cell_type": "code",
   "execution_count": 24,
   "id": "f5f55f41-14af-401a-a2c6-eca8028b7c07",
   "metadata": {},
   "outputs": [],
   "source": [
    "#Function to represent both \"Random Selection\" and \"Reproduction\"\n",
    "def single_generation_complete(population,all_loci):\n",
    "    for individual in population: \n",
    "        if random.random() > individual.get_fitness(): #Random selection\n",
    "            population.remove(individual) \n",
    "    size=len(population)\n",
    "    for _ in range(100-size): #Mantain size of the population to 100 individuals\n",
    "        individual_from_population(population,all_loci) #Reproduction\n",
    "    summarize_population_alleles(all_loci, population) #Print the frequencies of the alleles of the new generation"
   ]
  },
  {
   "cell_type": "markdown",
   "id": "9ce8a51f-b646-43e6-83e6-2e85d516b192",
   "metadata": {},
   "source": [
    "- Adapt everything to be written in a file"
   ]
  },
  {
   "cell_type": "code",
   "execution_count": 26,
   "id": "a1c0a8d8-f99d-49b8-8e33-43aceea06591",
   "metadata": {},
   "outputs": [],
   "source": [
    "#Same as \"summarize_population_alleles\" but modified for stroing the result\n",
    "def summarize_population_alleles_file(all_loci,population):\n",
    "    freq=[]\n",
    "    for locus in all_loci:\n",
    "        for allele in locus.alleles:\n",
    "            freq.append(get_allele_frequency(population, str(allele.name)))\n",
    "    return freq"
   ]
  },
  {
   "cell_type": "code",
   "execution_count": 27,
   "id": "2d9bdef0-766f-46b5-ad98-fb28a2d7bdb7",
   "metadata": {},
   "outputs": [],
   "source": [
    "#Same as \"single_generation_complete\" but modified to store the result into a file\n",
    "def single_generation_complete_file(population,all_loci, file_name):\n",
    "    for individual in population: \n",
    "        if random.random() > individual.get_fitness():\n",
    "            population.remove(individual)\n",
    "    size=len(population)\n",
    "    for _ in range(100-size):\n",
    "        individual_from_population(population,all_loci)\n",
    "    freq=summarize_population_alleles_file(all_loci, population)\n",
    "    with open(file_name, \"a\") as f:\n",
    "        new_line=', '.join(str(x) for x in freq)\n",
    "        f.write(\"\\n\" + new_line)"
   ]
  },
  {
   "cell_type": "code",
   "execution_count": 28,
   "id": "b77ca043-9b86-4c51-9b60-91d1e17572ad",
   "metadata": {},
   "outputs": [],
   "source": [
    "#Store all the alleles within a population in a file, written using \"csv\" format\n",
    "def summarize_alleles_header(loci, file_name):\n",
    "    locus_in_loci=[]\n",
    "    for locus in loci:\n",
    "            for allele in locus.alleles:\n",
    "                if allele.name not in locus_in_loci:\n",
    "                    locus_in_loci.append(allele.name)\n",
    "    with open(file_name, \"w\") as f:\n",
    "        f.write(', '.join(x for x in locus_in_loci))"
   ]
  },
  {
   "cell_type": "code",
   "execution_count": 29,
   "id": "f7cd7013-d049-46b8-9638-c9ff065cf8b8",
   "metadata": {},
   "outputs": [],
   "source": [
    "#Define the file name and file name txt version\n",
    "file_name=\"alleles_freq\"\n",
    "file_name_txt=file_name + \".txt\""
   ]
  },
  {
   "cell_type": "code",
   "execution_count": 30,
   "id": "4e71ed39-bee6-4c8c-8752-6b61ffd7cedf",
   "metadata": {},
   "outputs": [],
   "source": [
    "summarize_alleles_header(all_loci, file_name_txt) #Initialize the file with headers (alleles in the population)\n",
    "number_of_generation=50 #Define number of generations\n",
    "\n",
    "#Run the simulation of event in a generation, \"number_of_generations\" times and store results in a file\n",
    "for i in range(number_of_generation):\n",
    "    single_generation_complete_file(my_population,all_loci, file_name_txt)"
   ]
  },
  {
   "cell_type": "markdown",
   "id": "13373fd1-c06f-4cc4-b531-e677a26dec2b",
   "metadata": {},
   "source": [
    "- Convert to a csv file"
   ]
  },
  {
   "cell_type": "code",
   "execution_count": 32,
   "id": "63b9e894-a8bf-49ec-979d-02d4cf1e772e",
   "metadata": {},
   "outputs": [],
   "source": [
    "import csv"
   ]
  },
  {
   "cell_type": "code",
   "execution_count": 33,
   "id": "dae85ca3-87ac-4d04-8e08-a551d26b67af",
   "metadata": {},
   "outputs": [],
   "source": [
    "delimiter_in_txt = ', '\n",
    "with open(file_name_txt, 'r') as txt_file, open(file_name +'.csv', 'w', newline='') as csv_file:\n",
    "    writer = csv.writer(csv_file)\n",
    "    for line in txt_file:\n",
    "        # Remove any extra whitespace or newline characters and split the line by the delimiter\n",
    "        row = line.strip().split(delimiter_in_txt)\n",
    "        writer.writerow(row)"
   ]
  },
  {
   "cell_type": "markdown",
   "id": "1a2772df-ab37-463e-a1dc-1d7fbbe9f2f7",
   "metadata": {},
   "source": [
    "### GRAPHICAL REPRESENTATION"
   ]
  },
  {
   "cell_type": "code",
   "execution_count": 35,
   "id": "93236be5-5ee2-4744-99a7-eca63e4e25d6",
   "metadata": {},
   "outputs": [],
   "source": [
    "import pandas as pd\n",
    "import seaborn as sns\n",
    "from matplotlib import pyplot as plt"
   ]
  },
  {
   "cell_type": "code",
   "execution_count": 36,
   "id": "4fccc75d-77db-4b03-80e6-48819e74ad60",
   "metadata": {},
   "outputs": [
    {
     "data": {
      "text/html": [
       "<div>\n",
       "<style scoped>\n",
       "    .dataframe tbody tr th:only-of-type {\n",
       "        vertical-align: middle;\n",
       "    }\n",
       "\n",
       "    .dataframe tbody tr th {\n",
       "        vertical-align: top;\n",
       "    }\n",
       "\n",
       "    .dataframe thead th {\n",
       "        text-align: right;\n",
       "    }\n",
       "</style>\n",
       "<table border=\"1\" class=\"dataframe\">\n",
       "  <thead>\n",
       "    <tr style=\"text-align: right;\">\n",
       "      <th></th>\n",
       "      <th>A</th>\n",
       "      <th>a</th>\n",
       "      <th>B</th>\n",
       "      <th>b</th>\n",
       "      <th>C</th>\n",
       "      <th>c</th>\n",
       "    </tr>\n",
       "  </thead>\n",
       "  <tbody>\n",
       "    <tr>\n",
       "      <th>count</th>\n",
       "      <td>50.000000</td>\n",
       "      <td>50.000000</td>\n",
       "      <td>50.000000</td>\n",
       "      <td>50.000000</td>\n",
       "      <td>50.00000</td>\n",
       "      <td>50.00000</td>\n",
       "    </tr>\n",
       "    <tr>\n",
       "      <th>mean</th>\n",
       "      <td>0.700800</td>\n",
       "      <td>0.299200</td>\n",
       "      <td>0.800400</td>\n",
       "      <td>0.199600</td>\n",
       "      <td>0.79080</td>\n",
       "      <td>0.20920</td>\n",
       "    </tr>\n",
       "    <tr>\n",
       "      <th>std</th>\n",
       "      <td>0.074692</td>\n",
       "      <td>0.074692</td>\n",
       "      <td>0.107835</td>\n",
       "      <td>0.107835</td>\n",
       "      <td>0.10016</td>\n",
       "      <td>0.10016</td>\n",
       "    </tr>\n",
       "    <tr>\n",
       "      <th>min</th>\n",
       "      <td>0.560000</td>\n",
       "      <td>0.160000</td>\n",
       "      <td>0.530000</td>\n",
       "      <td>0.100000</td>\n",
       "      <td>0.54000</td>\n",
       "      <td>0.09000</td>\n",
       "    </tr>\n",
       "    <tr>\n",
       "      <th>25%</th>\n",
       "      <td>0.652500</td>\n",
       "      <td>0.222500</td>\n",
       "      <td>0.782500</td>\n",
       "      <td>0.120000</td>\n",
       "      <td>0.74250</td>\n",
       "      <td>0.13250</td>\n",
       "    </tr>\n",
       "    <tr>\n",
       "      <th>50%</th>\n",
       "      <td>0.690000</td>\n",
       "      <td>0.310000</td>\n",
       "      <td>0.835000</td>\n",
       "      <td>0.165000</td>\n",
       "      <td>0.83000</td>\n",
       "      <td>0.17000</td>\n",
       "    </tr>\n",
       "    <tr>\n",
       "      <th>75%</th>\n",
       "      <td>0.777500</td>\n",
       "      <td>0.347500</td>\n",
       "      <td>0.880000</td>\n",
       "      <td>0.217500</td>\n",
       "      <td>0.86750</td>\n",
       "      <td>0.25750</td>\n",
       "    </tr>\n",
       "    <tr>\n",
       "      <th>max</th>\n",
       "      <td>0.840000</td>\n",
       "      <td>0.440000</td>\n",
       "      <td>0.900000</td>\n",
       "      <td>0.470000</td>\n",
       "      <td>0.91000</td>\n",
       "      <td>0.46000</td>\n",
       "    </tr>\n",
       "  </tbody>\n",
       "</table>\n",
       "</div>"
      ],
      "text/plain": [
       "               A          a          B          b         C         c\n",
       "count  50.000000  50.000000  50.000000  50.000000  50.00000  50.00000\n",
       "mean    0.700800   0.299200   0.800400   0.199600   0.79080   0.20920\n",
       "std     0.074692   0.074692   0.107835   0.107835   0.10016   0.10016\n",
       "min     0.560000   0.160000   0.530000   0.100000   0.54000   0.09000\n",
       "25%     0.652500   0.222500   0.782500   0.120000   0.74250   0.13250\n",
       "50%     0.690000   0.310000   0.835000   0.165000   0.83000   0.17000\n",
       "75%     0.777500   0.347500   0.880000   0.217500   0.86750   0.25750\n",
       "max     0.840000   0.440000   0.900000   0.470000   0.91000   0.46000"
      ]
     },
     "execution_count": 36,
     "metadata": {},
     "output_type": "execute_result"
    }
   ],
   "source": [
    "df=pd.read_csv(file_name + '.csv')\n",
    "df.describe()"
   ]
  },
  {
   "cell_type": "code",
   "execution_count": 37,
   "id": "f8398d84-fc34-4dc6-bcb7-c4e29afbee35",
   "metadata": {},
   "outputs": [
    {
     "data": {
      "text/plain": [
       "(50, 6)"
      ]
     },
     "execution_count": 37,
     "metadata": {},
     "output_type": "execute_result"
    }
   ],
   "source": [
    "df.shape"
   ]
  },
  {
   "cell_type": "code",
   "execution_count": 38,
   "id": "9df73e90-7998-485f-96b1-b1fb8538dfa2",
   "metadata": {},
   "outputs": [
    {
     "data": {
      "image/png": "[encoded data removed]",
      "text/plain": [
       "<Figure size 640x480 with 1 Axes>"
      ]
     },
     "metadata": {},
     "output_type": "display_data"
    }
   ],
   "source": [
    "ax=sns.lineplot(df, dashes=True)\n",
    "ax.legend(loc='center left', bbox_to_anchor=(1, 0.5))\n",
    "plt.xlabel(\"Generations\")\n",
    "plt.ylabel(\"Allele Frequency\")\n",
    "plt.title(\"Changes in Alleles Frequencies over Generations\")\n",
    "plt.show()"
   ]
  },
  {
   "cell_type": "code",
   "execution_count": null,
   "id": "ffba0ef5-2a15-403d-b52a-9ceee90790fa",
   "metadata": {},
   "outputs": [],
   "source": []
  }
 ],
 "metadata": {
  "kernelspec": {
   "display_name": "Python 3 (ipykernel)",
   "language": "python",
   "name": "python3"
  },
  "language_info": {
   "codemirror_mode": {
    "name": "ipython",
    "version": 3
   },
   "file_extension": ".py",
   "mimetype": "text/x-python",
   "name": "python",
   "nbconvert_exporter": "python",
   "pygments_lexer": "ipython3",
   "version": "3.12.3"
  }
 },
 "nbformat": 4,
 "nbformat_minor": 5
}
